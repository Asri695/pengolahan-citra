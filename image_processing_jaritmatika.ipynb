{
  "nbformat": 4,
  "nbformat_minor": 0,
  "metadata": {
    "colab": {
      "provenance": [],
      "authorship_tag": "ABX9TyOMbYejgjwR0uwrLd2IMfsw",
      "include_colab_link": true
    },
    "kernelspec": {
      "name": "python3",
      "display_name": "Python 3"
    },
    "language_info": {
      "name": "python"
    }
  },
  "cells": [
    {
      "cell_type": "markdown",
      "metadata": {
        "id": "view-in-github",
        "colab_type": "text"
      },
      "source": [
        "<a href=\"https://colab.research.google.com/github/Asri695/pengolahan-citra/blob/main/image_processing_jaritmatika.ipynb\" target=\"_parent\"><img src=\"https://colab.research.google.com/assets/colab-badge.svg\" alt=\"Open In Colab\"/></a>"
      ]
    },
    {
      "cell_type": "code",
      "execution_count": 8,
      "metadata": {
        "colab": {
          "base_uri": "https://localhost:8080/"
        },
        "id": "GLgYRzCPt1Dp",
        "outputId": "94731882-da38-4fb8-81f3-0be7b9aec815"
      },
      "outputs": [
        {
          "output_type": "stream",
          "name": "stdout",
          "text": [
            "Drive already mounted at /content/drive; to attempt to forcibly remount, call drive.mount(\"/content/drive\", force_remount=True).\n",
            "'./drive/My Drive/image processing/dua.jpg'\n",
            "'./drive/My Drive/image processing/tiga.jpg'\n"
          ]
        }
      ],
      "source": [
        "import os\n",
        "import tensorflow as tf\n",
        "import cv2 as cv\n",
        "import matplotlib.pyplot as plt\n",
        "import numpy as np\n",
        "import math\n",
        "import pandas as pd\n",
        "from keras.preprocessing import image\n",
        "from google.colab.patches import cv2_imshow # for image display\n",
        "from matplotlib import pyplot as plt\n",
        "from google.colab import drive\n",
        "\n",
        "drive.mount(\"/content/drive\")\n",
        "!ls \"./drive/My Drive/image processing/dua.jpg\"\n",
        "!ls \"./drive/My Drive/image processing/tiga.jpg\"\n"
      ]
    },
    {
      "cell_type": "code",
      "source": [
        "def visualize(original, grayscaled, edges, delates, contours):\n",
        " fig = plt.figure()\n",
        " plt.subplot(1,5,1)\n",
        " plt.imshow(original)\n",
        " plt.subplot(1,5,2)\n",
        " plt.imshow(grayscaled, cmap=\"gray\")\n",
        " plt.subplot(1,5,3)\n",
        " plt.imshow(edges, cmap=\"gray\")\n",
        " plt.subplot(1,5,4)\n",
        " plt.imshow(delates, cmap=\"gray\")\n",
        " plt.subplot(1,5,5)\n",
        " plt.contour(delates, cmap=\"gray\", origin=\"image\")"
      ],
      "metadata": {
        "id": "w08o3oZPvF47"
      },
      "execution_count": 3,
      "outputs": []
    },
    {
      "cell_type": "code",
      "source": [
        "f1 = './drive/My Drive/image processing/dua.jpg'\n",
        "f2 = './drive/My Drive/image processing/tiga.jpg'\n",
        "nt1 = sum([len(files) for _, _, files in os.walk(f1)])\n",
        "nt2 = sum([len(files) for _, _, files in os.walk(f2)])\n",
        "print(nt1, nt2)\n"
      ],
      "metadata": {
        "colab": {
          "base_uri": "https://localhost:8080/"
        },
        "id": "Uwf4A_2OvVl5",
        "outputId": "21a799f5-ac42-49f2-b3b6-180d8371a24f"
      },
      "execution_count": 5,
      "outputs": [
        {
          "output_type": "stream",
          "name": "stdout",
          "text": [
            "0 0\n"
          ]
        }
      ]
    },
    {
      "cell_type": "code",
      "source": [
        "t = os.listdir('./drive/My Drive/image processing/dua.jpg')\n",
        "t2 = os.listdir('./drive/My Drive/image processing/tiga.jpg')\n",
        "i=0\n",
        "for each_image in t:\n",
        " if each_image.endswith(\".jpg\"):\n",
        " full_path = \"./drive/My Drive/image processing/dua.jpg\" + each_image\n",
        " img = cv.imread(full_path)\n",
        " img_blur = cv.GaussianBlur(img, (7, 7), 1)\n",
        " gray = cv.cvtColor(img_blur ,cv.IMREAD_GRAY\n",
        "SCALE)\n",
        " edge = cv.Canny(gray, 128, 128)\n",
        " kernel = np.ones((3))\n",
        " delate = cv.dilate(edge, kernel, iterations=1)\n",
        " contour = cv.findContours(delate,cv.RETR_TREE,\n",
        "cv.CHAIN_APPROX_SIMPLE) #berupa matrik\n",
        " cnt = cv.HuMoments(cv.moments(delate)).flatten()\n",
        " print(i, each_image,'rata-rata = ',sum(cnt,0)/7) \n",
        " visualize(img, tf.squeeze(gray), edge, delate)\n",
        " plt.show()\n",
        " i=i+1\n"
      ],
      "metadata": {
        "colab": {
          "base_uri": "https://localhost:8080/",
          "height": 130
        },
        "id": "mZGeUVA5v0B5",
        "outputId": "c178eb7e-a4cd-4049-f267-d223224b20d5"
      },
      "execution_count": 9,
      "outputs": [
        {
          "output_type": "error",
          "ename": "IndentationError",
          "evalue": "ignored",
          "traceback": [
            "\u001b[0;36m  File \u001b[0;32m\"<ipython-input-9-ed0afaad1de9>\"\u001b[0;36m, line \u001b[0;32m6\u001b[0m\n\u001b[0;31m    full_path = \"./drive/My Drive/image processing/dua.jpg\" + each_image\u001b[0m\n\u001b[0m    ^\u001b[0m\n\u001b[0;31mIndentationError\u001b[0m\u001b[0;31m:\u001b[0m expected an indented block\n"
          ]
        }
      ]
    }
  ]
}